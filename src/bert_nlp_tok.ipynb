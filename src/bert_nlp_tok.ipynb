{
 "nbformat": 4,
 "nbformat_minor": 0,
 "metadata": {
  "colab": {
   "name": "bert-nlp.ipynb",
   "provenance": [],
   "collapsed_sections": []
  },
  "kernelspec": {
   "name": "python3",
   "display_name": "Python 3"
  },
  "pycharm": {
   "stem_cell": {
    "cell_type": "raw",
    "source": [],
    "metadata": {
     "collapsed": false
    }
   }
  }
 },
 "cells": [
  {
   "cell_type": "code",
   "metadata": {
    "id": "1i8-MHbLZHLi",
    "colab_type": "code",
    "colab": {}
   },
   "source": [
    "# !pip install pytorch_pretrained_bert\n",
    "# !pip install torch\n",
    "\n",
    "import pandas as pd\n",
    "import numpy as np\n",
    "import copy\n",
    "import string\n",
    "import torch\n",
    "\n",
    "from sklearn.model_selection import train_test_split\n",
    "from pytorch_pretrained_bert import tokenization\n",
    "\n",
    "from pytorch_pretrained_bert import BertTokenizer, BertConfig\n",
    "from pytorch_pretrained_bert import BertForTokenClassification"
   ],
   "execution_count": 0,
   "outputs": []
  },
  {
   "cell_type": "markdown",
   "metadata": {
    "id": "q0y6dW8BlSFB",
    "colab_type": "text"
   },
   "source": [
    "## Data preprocessing"
   ]
  },
  {
   "cell_type": "code",
   "metadata": {
    "id": "PlfX35lSZ1jR",
    "colab_type": "code",
    "outputId": "dd5c3076-8c03-4e7f-8267-b8733f6b8c3d",
    "colab": {
     "base_uri": "https://localhost:8080/",
     "height": 204
    }
   },
   "source": [
    "data = pd.read_csv(\"./sample_0.csv\").fillna(method=\"ffill\")\n",
    "data.drop(columns=['Number'], inplace=True)\n",
    "\n",
    "data.head()"
   ],
   "execution_count": 5,
   "outputs": [
    {
     "output_type": "execute_result",
     "data": {
      "text/html": [
       "<div>\n",
       "<style scoped>\n",
       "    .dataframe tbody tr th:only-of-type {\n",
       "        vertical-align: middle;\n",
       "    }\n",
       "\n",
       "    .dataframe tbody tr th {\n",
       "        vertical-align: top;\n",
       "    }\n",
       "\n",
       "    .dataframe thead th {\n",
       "        text-align: right;\n",
       "    }\n",
       "</style>\n",
       "<table border=\"1\" class=\"dataframe\">\n",
       "  <thead>\n",
       "    <tr style=\"text-align: right;\">\n",
       "      <th></th>\n",
       "      <th>Tag</th>\n",
       "      <th>Start</th>\n",
       "      <th>End</th>\n",
       "      <th>Content</th>\n",
       "    </tr>\n",
       "  </thead>\n",
       "  <tbody>\n",
       "    <tr>\n",
       "      <th>0</th>\n",
       "      <td>ЛОК</td>\n",
       "      <td>1048</td>\n",
       "      <td>1061</td>\n",
       "      <td>Південний Буг</td>\n",
       "    </tr>\n",
       "    <tr>\n",
       "      <th>1</th>\n",
       "      <td>ЛОК</td>\n",
       "      <td>1073</td>\n",
       "      <td>1080</td>\n",
       "      <td>Гіпаніс</td>\n",
       "    </tr>\n",
       "    <tr>\n",
       "      <th>2</th>\n",
       "      <td>ЛОК</td>\n",
       "      <td>1104</td>\n",
       "      <td>1109</td>\n",
       "      <td>Дунай</td>\n",
       "    </tr>\n",
       "    <tr>\n",
       "      <th>3</th>\n",
       "      <td>ЛОК</td>\n",
       "      <td>1185</td>\n",
       "      <td>1192</td>\n",
       "      <td>Дністер</td>\n",
       "    </tr>\n",
       "    <tr>\n",
       "      <th>4</th>\n",
       "      <td>ЛОК</td>\n",
       "      <td>1358</td>\n",
       "      <td>1368</td>\n",
       "      <td>Балканська</td>\n",
       "    </tr>\n",
       "  </tbody>\n",
       "</table>\n",
       "</div>"
      ],
      "text/plain": [
       "   Tag  Start   End        Content\n",
       "0  ЛОК   1048  1061  Південний Буг\n",
       "1  ЛОК   1073  1080        Гіпаніс\n",
       "2  ЛОК   1104  1109          Дунай\n",
       "3  ЛОК   1185  1192        Дністер\n",
       "4  ЛОК   1358  1368     Балканська"
      ]
     },
     "metadata": {
      "tags": []
     },
     "execution_count": 5
    }
   ]
  },
  {
   "cell_type": "code",
   "metadata": {
    "id": "uei1PT2MczFO",
    "colab_type": "code",
    "colab": {}
   },
   "source": [
    "# Replace tags with standard notation.\n",
    "data.replace(['ЛОК', 'ОРГ', 'ПЕРС', 'РІЗН'], ['LOC', 'ORG', 'PERS', 'MISC'], inplace=True)"
   ],
   "execution_count": 0,
   "outputs": []
  },
  {
   "cell_type": "markdown",
   "metadata": {
    "id": "daB6mgMAh3d9",
    "colab_type": "text"
   },
   "source": [
    "To mark the type of entity the BIO notation is used -so that the position of every word of a Named Entity (NE) is expressed via 'Tag' attribute's preffix. The first (and sometims only) part of entity is marked with preffix 'B' (beginning) and all its following parts - with 'I' (inner). If a word is not an entity it's marked with 'O' - meaning it's standing outside of a named entity group."
   ]
  },
  {
   "cell_type": "code",
   "metadata": {
    "id": "LtVorfj_hrlR",
    "colab_type": "code",
    "outputId": "553c0b0b-674e-462c-978d-18605797ac78",
    "colab": {
     "base_uri": "https://localhost:8080/",
     "height": 241
    }
   },
   "source": [
    "def is_marked(tag):\n",
    "  return tag[1] == '-'\n",
    "\n",
    "\n",
    "def mark_tag_position(tag, bio_mark):\n",
    "  if not is_marked(tag):\n",
    "    tag = bio_mark + tag\n",
    "  return tag\n",
    "\n",
    "\n",
    "for index, row in data.iterrows():\n",
    "  content_split = row['Content'].find(' ');\n",
    "  if content_split != -1:\n",
    "    data.set_value(index,'Content', row['Content'][:content_split])\n",
    "    for word in row['Content'].split(' ')[1:]:\n",
    "      new_row = copy.copy(row)\n",
    "      new_row['Content'] = word\n",
    "      new_row['Tag'] = mark_tag_position(new_row['Tag'], 'I-')\n",
    "      data.loc[data.shape[0]] = list(new_row)\n",
    "\n",
    "  row['Content'] = row['Content']\n",
    "  data.set_value(index, 'Tag', mark_tag_position(row['Tag'], 'B-'))\n",
    "\n",
    "data.tail()"
   ],
   "execution_count": 10,
   "outputs": [
    {
     "output_type": "stream",
     "text": [
      "/usr/local/lib/python3.6/dist-packages/ipykernel_launcher.py:22: FutureWarning: set_value is deprecated and will be removed in a future release. Please use .at[] or .iat[] accessors instead\n"
     ],
     "name": "stderr"
    },
    {
     "output_type": "execute_result",
     "data": {
      "text/html": [
       "<div>\n",
       "<style scoped>\n",
       "    .dataframe tbody tr th:only-of-type {\n",
       "        vertical-align: middle;\n",
       "    }\n",
       "\n",
       "    .dataframe tbody tr th {\n",
       "        vertical-align: top;\n",
       "    }\n",
       "\n",
       "    .dataframe thead th {\n",
       "        text-align: right;\n",
       "    }\n",
       "</style>\n",
       "<table border=\"1\" class=\"dataframe\">\n",
       "  <thead>\n",
       "    <tr style=\"text-align: right;\">\n",
       "      <th></th>\n",
       "      <th>Tag</th>\n",
       "      <th>Start</th>\n",
       "      <th>End</th>\n",
       "      <th>Content</th>\n",
       "    </tr>\n",
       "  </thead>\n",
       "  <tbody>\n",
       "    <tr>\n",
       "      <th>35</th>\n",
       "      <td>I-LOC</td>\n",
       "      <td>2507</td>\n",
       "      <td>2525</td>\n",
       "      <td>губернію</td>\n",
       "    </tr>\n",
       "    <tr>\n",
       "      <th>36</th>\n",
       "      <td>I-LOC</td>\n",
       "      <td>2865</td>\n",
       "      <td>2883</td>\n",
       "      <td>держава</td>\n",
       "    </tr>\n",
       "    <tr>\n",
       "      <th>37</th>\n",
       "      <td>I-PERS</td>\n",
       "      <td>3766</td>\n",
       "      <td>3778</td>\n",
       "      <td>Лицар</td>\n",
       "    </tr>\n",
       "    <tr>\n",
       "      <th>38</th>\n",
       "      <td>I-LOC</td>\n",
       "      <td>4397</td>\n",
       "      <td>4412</td>\n",
       "      <td>Бугу</td>\n",
       "    </tr>\n",
       "    <tr>\n",
       "      <th>39</th>\n",
       "      <td>I-LOC</td>\n",
       "      <td>4759</td>\n",
       "      <td>4773</td>\n",
       "      <td>шляхи</td>\n",
       "    </tr>\n",
       "  </tbody>\n",
       "</table>\n",
       "</div>"
      ],
      "text/plain": [
       "       Tag  Start   End   Content\n",
       "35   I-LOC   2507  2525  губернію\n",
       "36   I-LOC   2865  2883   держава\n",
       "37  I-PERS   3766  3778     Лицар\n",
       "38   I-LOC   4397  4412      Бугу\n",
       "39   I-LOC   4759  4773     шляхи"
      ]
     },
     "metadata": {
      "tags": []
     },
     "execution_count": 10
    }
   ]
  },
  {
   "cell_type": "markdown",
   "metadata": {
    "id": "AS0JNsdleQSm",
    "colab_type": "text"
   },
   "source": [
    "## Tokenization & Input Formatting"
   ]
  },
  {
   "cell_type": "code",
   "metadata": {
    "id": "9o-iRRDAdywE",
    "colab_type": "code",
    "colab": {}
   },
   "source": [
    "tokenizer = BertTokenizer.from_pretrained('bert-base-multilingual-cased', do_lower_case=False)\n",
    "# tokenizer = tokenization.FullTokenizer(vocab_file=vocab_file, do_lower_case=False)  # if you have /config/vocabulary.txt locally"
   ],
   "execution_count": 0,
   "outputs": []
  },
  {
   "cell_type": "code",
   "metadata": {
    "id": "Xa6niLbJuy3Y",
    "colab_type": "code",
    "colab": {
     "base_uri": "https://localhost:8080/",
     "height": 68
    },
    "outputId": "5bb80378-bb7e-4a75-bc20-cfb7a9c39b5d"
   },
   "source": [
    "orig_tokens = data['Content']\n",
    "labels = data['Tag']\n",
    "\n",
    "bert_tokens, orig_to_tok_map = [], []\n",
    "\n",
    "bert_tokens.append(\"[CLS]\")\n",
    "for orig_token in orig_tokens:\n",
    "  orig_to_tok_map.append(len(bert_tokens))\n",
    "  bert_tokens.extend(tokenizer.tokenize(orig_token))\n",
    "bert_tokens.append(\"[SEP]\")\n",
    "\n",
    "bert_ids = tokenizer.convert_tokens_to_ids(bert_tokens)\n",
    "\n",
    "bert_labels = []\n",
    "\n",
    "for i in range(len(bert_ids)):\n",
    "  if i in orig_to_tok_map:\n",
    "    bert_labels.append(data['Tag'][orig_to_tok_map.index(i)])\n",
    "  else:\n",
    "    bert_labels.append('X')\n",
    "\n",
    "\n",
    "# example:\n",
    "print(bert_tokens[:orig_to_tok_map[3]])\n",
    "print(bert_ids[:orig_to_tok_map[3]])\n",
    "print(bert_labels[:orig_to_tok_map[3]])"
   ],
   "execution_count": 27,
   "outputs": [
    {
     "output_type": "stream",
     "text": [
      "['[CLS]', 'П', '##ів', '##ден', '##ний', 'Г', '##іп', '##ані', '##с', 'Д', '##уна', '##й']\n",
      "[101, 524, 10721, 16770, 11532, 512, 30892, 41879, 10513, 513, 27063, 10384]\n",
      "['X', 'B-LOC', 'X', 'X', 'X', 'B-LOC', 'X', 'X', 'X', 'B-LOC', 'X', 'X']\n"
     ],
     "name": "stdout"
    }
   ]
  },
  {
   "cell_type": "markdown",
   "metadata": {
    "id": "w_TlZwY26iOQ",
    "colab_type": "text"
   },
   "source": [
    "## Split into training set & testing set.\n",
    "\n",
    "---\n",
    "\n"
   ]
  },
  {
   "cell_type": "code",
   "metadata": {
    "id": "yr6lQzMB6ia3",
    "colab_type": "code",
    "colab": {}
   },
   "source": [
    "X_train, X_test, Y_train, Y_test = train_test_split(bert_ids, bert_labels, random_state=7, test_size=0.2)"
   ],
   "execution_count": 0,
   "outputs": []
  },
  {
   "cell_type": "code",
   "metadata": {
    "id": "0KGY0m19_dDi",
    "colab_type": "code",
    "colab": {
     "base_uri": "https://localhost:8080/",
     "height": 214
    },
    "outputId": "3bffa695-fb22-48db-c618-8b57e9f0efaf"
   },
   "source": [
    "X_train = torch.tensor(X_train)\n",
    "X_test = torch.tensor(X_test)\n",
    "\n",
    "Y_train = torch.tensor(Y_train)\n",
    "Y_test = torch.tensor(Y_test)"
   ],
   "execution_count": 35,
   "outputs": [
    {
     "output_type": "error",
     "ename": "ValueError",
     "evalue": "ignored",
     "traceback": [
      "\u001b[0;31m---------------------------------------------------------------------------\u001b[0m",
      "\u001b[0;31mValueError\u001b[0m                                Traceback (most recent call last)",
      "\u001b[0;32m<ipython-input-35-292b6b4d5199>\u001b[0m in \u001b[0;36m<module>\u001b[0;34m()\u001b[0m\n\u001b[1;32m      2\u001b[0m \u001b[0mX_test\u001b[0m \u001b[0;34m=\u001b[0m \u001b[0mtorch\u001b[0m\u001b[0;34m.\u001b[0m\u001b[0mtensor\u001b[0m\u001b[0;34m(\u001b[0m\u001b[0mX_test\u001b[0m\u001b[0;34m)\u001b[0m\u001b[0;34m\u001b[0m\u001b[0;34m\u001b[0m\u001b[0m\n\u001b[1;32m      3\u001b[0m \u001b[0;34m\u001b[0m\u001b[0m\n\u001b[0;32m----> 4\u001b[0;31m \u001b[0mY_train\u001b[0m \u001b[0;34m=\u001b[0m \u001b[0mtorch\u001b[0m\u001b[0;34m.\u001b[0m\u001b[0mtensor\u001b[0m\u001b[0;34m(\u001b[0m\u001b[0mY_train\u001b[0m\u001b[0;34m)\u001b[0m\u001b[0;34m\u001b[0m\u001b[0;34m\u001b[0m\u001b[0m\n\u001b[0m\u001b[1;32m      5\u001b[0m \u001b[0mY_test\u001b[0m \u001b[0;34m=\u001b[0m \u001b[0mtorch\u001b[0m\u001b[0;34m.\u001b[0m\u001b[0mtensor\u001b[0m\u001b[0;34m(\u001b[0m\u001b[0mY_test\u001b[0m\u001b[0;34m)\u001b[0m\u001b[0;34m\u001b[0m\u001b[0;34m\u001b[0m\u001b[0m\n",
      "\u001b[0;31mValueError\u001b[0m: too many dimensions 'str'"
     ]
    }
   ]
  },
  {
   "cell_type": "markdown",
   "metadata": {
    "id": "09Z5bTNmln4D",
    "colab_type": "text"
   },
   "source": [
    "## Get the pre-trained model "
   ]
  },
  {
   "cell_type": "markdown",
   "metadata": {
    "id": "U40fL_f5lzqN",
    "colab_type": "text"
   },
   "source": [
    "Using a pre-trained model allows us to have a decent stating point for our model (used insdead of random initial parameters), impying the task it is used for is quite similar. Here we import a multilingual BERT token-classification model (used for NER) from PyTorch lib. A pre-trained model can also be downloaded from Google AI's official repo https://github.com/google-research/bert, and then set up with config file from the archive. However the Transformers wrapper library provides a convenient importability of this model in PyTorch and TensorFlow."
   ]
  },
  {
   "cell_type": "code",
   "metadata": {
    "id": "vAzhSAMElmxJ",
    "colab_type": "code",
    "colab": {}
   },
   "source": [
    "model = BertForTokenClassification.from_pretrained('bert-base-multilingual-cased', num_labels=4)"
   ],
   "execution_count": 0,
   "outputs": []
  },
  {
   "cell_type": "markdown",
   "metadata": {
    "id": "FUGYMRttokSN",
    "colab_type": "text"
   },
   "source": [
    "## Train our model"
   ]
  },
  {
   "cell_type": "code",
   "metadata": {
    "id": "tvrQST4cpDDN",
    "colab_type": "code",
    "colab": {}
   },
   "source": [],
   "execution_count": 0,
   "outputs": []
  },
  {
   "cell_type": "markdown",
   "metadata": {
    "id": "Wrjj9drxOqnI",
    "colab_type": "text"
   },
   "source": [
    "## Evaluate the model"
   ]
  },
  {
   "cell_type": "markdown",
   "metadata": {
    "id": "m05zrUG1OyLZ",
    "colab_type": "text"
   },
   "source": [
    "MultiNLI"
   ]
  },
  {
   "cell_type": "code",
   "metadata": {
    "id": "skTKX-NuOqBZ",
    "colab_type": "code",
    "colab": {}
   },
   "source": [
    ""
   ],
   "execution_count": 0,
   "outputs": []
  },
  {
   "cell_type": "markdown",
   "metadata": {
    "id": "zU_aFf5fO7Ou",
    "colab_type": "text"
   },
   "source": [
    "Test F1"
   ]
  },
  {
   "cell_type": "code",
   "metadata": {
    "id": "JQ1hvhb2O7Zn",
    "colab_type": "code",
    "colab": {}
   },
   "source": [
    ""
   ],
   "execution_count": 0,
   "outputs": []
  }
 ]
}