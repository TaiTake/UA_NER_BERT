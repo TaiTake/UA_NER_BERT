{
  "nbformat": 4,
  "nbformat_minor": 0,
  "metadata": {
    "colab": {
      "name": "bert-nlp.ipynb",
      "provenance": [],
      "collapsed_sections": []
    },
    "kernelspec": {
      "name": "python3",
      "display_name": "Python 3"
    }
  },
  "cells": [
    {
      "cell_type": "code",
      "metadata": {
        "id": "1i8-MHbLZHLi",
        "colab_type": "code",
        "colab": {}
      },
      "source": [
        "import pandas as pd\n",
        "import numpy as np\n",
        "import copy\n",
        "import string\n",
        "\n",
        "from pytorch_pretrained_bert import BertTokenizer, BertConfig\n",
        "from pytorch_pretrained_bert import BertForTokenClassification"
      ],
      "execution_count": 0,
      "outputs": []
    },
    {
      "cell_type": "markdown",
      "metadata": {
        "id": "q0y6dW8BlSFB",
        "colab_type": "text"
      },
      "source": [
        "## Data preprocessing"
      ]
    },
    {
      "cell_type": "code",
      "metadata": {
        "id": "PlfX35lSZ1jR",
        "colab_type": "code",
        "outputId": "a00b3947-bd7a-4d1f-d27c-85fcc92d4941",
        "colab": {
          "base_uri": "https://localhost:8080/",
          "height": 204
        }
      },
      "source": [
        "data = pd.read_csv(\"./data/sample_0.csv\").fillna(method=\"ffill\")\n",
        "data.drop(columns=['Number'], inplace=True)\n",
        "\n",
        "data.head()"
      ],
      "execution_count": 172,
      "outputs": [
        {
          "output_type": "execute_result",
          "data": {
            "text/html": [
              "<div>\n",
              "<style scoped>\n",
              "    .dataframe tbody tr th:only-of-type {\n",
              "        vertical-align: middle;\n",
              "    }\n",
              "\n",
              "    .dataframe tbody tr th {\n",
              "        vertical-align: top;\n",
              "    }\n",
              "\n",
              "    .dataframe thead th {\n",
              "        text-align: right;\n",
              "    }\n",
              "</style>\n",
              "<table border=\"1\" class=\"dataframe\">\n",
              "  <thead>\n",
              "    <tr style=\"text-align: right;\">\n",
              "      <th></th>\n",
              "      <th>Tag</th>\n",
              "      <th>Start</th>\n",
              "      <th>End</th>\n",
              "      <th>Content</th>\n",
              "    </tr>\n",
              "  </thead>\n",
              "  <tbody>\n",
              "    <tr>\n",
              "      <th>0</th>\n",
              "      <td>ЛОК</td>\n",
              "      <td>1048</td>\n",
              "      <td>1061</td>\n",
              "      <td>Південний Буг</td>\n",
              "    </tr>\n",
              "    <tr>\n",
              "      <th>1</th>\n",
              "      <td>ЛОК</td>\n",
              "      <td>1073</td>\n",
              "      <td>1080</td>\n",
              "      <td>Гіпаніс</td>\n",
              "    </tr>\n",
              "    <tr>\n",
              "      <th>2</th>\n",
              "      <td>ЛОК</td>\n",
              "      <td>1104</td>\n",
              "      <td>1109</td>\n",
              "      <td>Дунай</td>\n",
              "    </tr>\n",
              "    <tr>\n",
              "      <th>3</th>\n",
              "      <td>ЛОК</td>\n",
              "      <td>1185</td>\n",
              "      <td>1192</td>\n",
              "      <td>Дністер</td>\n",
              "    </tr>\n",
              "    <tr>\n",
              "      <th>4</th>\n",
              "      <td>ЛОК</td>\n",
              "      <td>1358</td>\n",
              "      <td>1368</td>\n",
              "      <td>Балканська</td>\n",
              "    </tr>\n",
              "  </tbody>\n",
              "</table>\n",
              "</div>"
            ],
            "text/plain": [
              "   Tag  Start   End        Content\n",
              "0  ЛОК   1048  1061  Південний Буг\n",
              "1  ЛОК   1073  1080        Гіпаніс\n",
              "2  ЛОК   1104  1109          Дунай\n",
              "3  ЛОК   1185  1192        Дністер\n",
              "4  ЛОК   1358  1368     Балканська"
            ]
          },
          "metadata": {
            "tags": []
          },
          "execution_count": 172
        }
      ]
    },
    {
      "cell_type": "code",
      "metadata": {
        "id": "uei1PT2MczFO",
        "colab_type": "code",
        "colab": {}
      },
      "source": [
        "# Replace tags with standard notation.\n",
        "data.replace(['ЛОК', 'ОРГ', 'ПЕРС', 'РІЗН'], ['LOC', 'ORG', 'PERS', 'MISC'], inplace=True)"
      ],
      "execution_count": 0,
      "outputs": []
    },
    {
      "cell_type": "markdown",
      "metadata": {
        "id": "daB6mgMAh3d9",
        "colab_type": "text"
      },
      "source": [
        "To mark the type of entity the BIO notation is used -sSo that the position of every word of a Named Entity (NE) is expressed via 'Tag' attribute's preffix. The first (and sometims only) part of entity is marked with preffix 'B' (beginning) and all its following parts - with 'I' (inner). If a word is not an entity it's marked with 'O' - meaning it's standing outside of a named entity group."
      ]
    },
    {
      "cell_type": "code",
      "metadata": {
        "id": "LtVorfj_hrlR",
        "colab_type": "code",
        "colab": {
          "base_uri": "https://localhost:8080/",
          "height": 241
        },
        "outputId": "c03fbbbb-d41a-41c6-c635-fa8b7dcfe3fc"
      },
      "source": [
        "def is_marked(tag):\n",
        "  return tag[1] == '-'\n",
        "\n",
        "\n",
        "def mark_tag_position(tag, bio_mark):\n",
        "  if not is_marked(tag):\n",
        "    tag = bio_mark + tag\n",
        "  return tag\n",
        "\n",
        "\n",
        "for index, row in data.iterrows():\n",
        "  content_split = row['Content'].find(' ');\n",
        "  if content_split != -1:\n",
        "    data.set_value(index,'Content', row['Content'][:content_split])\n",
        "    for word in row['Content'].split(' ')[1:]:\n",
        "      new_row = copy.copy(row)\n",
        "      new_row['Content'] = word\n",
        "      new_row['Tag'] = mark_tag_position(new_row['Tag'], 'I-')\n",
        "      data.loc[data.shape[0]] = list(new_row)\n",
        "\n",
        "  row['Content'] = row['Content']\n",
        "  data.set_value(index, 'Tag', mark_tag_position(row['Tag'], 'B-'))\n",
        "\n",
        "data.tail()"
      ],
      "execution_count": 178,
      "outputs": [
        {
          "output_type": "stream",
          "text": [
            "/usr/local/lib/python3.6/dist-packages/ipykernel_launcher.py:22: FutureWarning: set_value is deprecated and will be removed in a future release. Please use .at[] or .iat[] accessors instead\n"
          ],
          "name": "stderr"
        },
        {
          "output_type": "execute_result",
          "data": {
            "text/html": [
              "<div>\n",
              "<style scoped>\n",
              "    .dataframe tbody tr th:only-of-type {\n",
              "        vertical-align: middle;\n",
              "    }\n",
              "\n",
              "    .dataframe tbody tr th {\n",
              "        vertical-align: top;\n",
              "    }\n",
              "\n",
              "    .dataframe thead th {\n",
              "        text-align: right;\n",
              "    }\n",
              "</style>\n",
              "<table border=\"1\" class=\"dataframe\">\n",
              "  <thead>\n",
              "    <tr style=\"text-align: right;\">\n",
              "      <th></th>\n",
              "      <th>Tag</th>\n",
              "      <th>Start</th>\n",
              "      <th>End</th>\n",
              "      <th>Content</th>\n",
              "    </tr>\n",
              "  </thead>\n",
              "  <tbody>\n",
              "    <tr>\n",
              "      <th>35</th>\n",
              "      <td>I-LOC</td>\n",
              "      <td>2507</td>\n",
              "      <td>2525</td>\n",
              "      <td>губернію</td>\n",
              "    </tr>\n",
              "    <tr>\n",
              "      <th>36</th>\n",
              "      <td>I-LOC</td>\n",
              "      <td>2865</td>\n",
              "      <td>2883</td>\n",
              "      <td>держава</td>\n",
              "    </tr>\n",
              "    <tr>\n",
              "      <th>37</th>\n",
              "      <td>I-PERS</td>\n",
              "      <td>3766</td>\n",
              "      <td>3778</td>\n",
              "      <td>Лицар</td>\n",
              "    </tr>\n",
              "    <tr>\n",
              "      <th>38</th>\n",
              "      <td>I-LOC</td>\n",
              "      <td>4397</td>\n",
              "      <td>4412</td>\n",
              "      <td>Бугу</td>\n",
              "    </tr>\n",
              "    <tr>\n",
              "      <th>39</th>\n",
              "      <td>I-LOC</td>\n",
              "      <td>4759</td>\n",
              "      <td>4773</td>\n",
              "      <td>шляхи</td>\n",
              "    </tr>\n",
              "  </tbody>\n",
              "</table>\n",
              "</div>"
            ],
            "text/plain": [
              "       Tag  Start   End   Content\n",
              "35   I-LOC   2507  2525  губернію\n",
              "36   I-LOC   2865  2883   держава\n",
              "37  I-PERS   3766  3778     Лицар\n",
              "38   I-LOC   4397  4412      Бугу\n",
              "39   I-LOC   4759  4773     шляхи"
            ]
          },
          "metadata": {
            "tags": []
          },
          "execution_count": 178
        }
      ]
    },
    {
      "cell_type": "markdown",
      "metadata": {
        "id": "AS0JNsdleQSm",
        "colab_type": "text"
      },
      "source": [
        ""
      ]
    },
    {
      "cell_type": "code",
      "metadata": {
        "id": "9o-iRRDAdywE",
        "colab_type": "code",
        "colab": {}
      },
      "source": [
        "tokenizer = BertTokenizer.from_pretrained('bert-base-multilingual-cased', do_lower_case=False)"
      ],
      "execution_count": 0,
      "outputs": []
    },
    {
      "cell_type": "markdown",
      "metadata": {
        "id": "09Z5bTNmln4D",
        "colab_type": "text"
      },
      "source": [
        "## Get the pre-trained model "
      ]
    },
    {
      "cell_type": "markdown",
      "metadata": {
        "id": "U40fL_f5lzqN",
        "colab_type": "text"
      },
      "source": [
        "Using a pre-trained model allows us to have a decent stating point for our model (used insdead of random initial parameters), impying the task it is used for is quite similar. Here we import a multilingual BERT token-classification model (used for NER) from PyTorch lib. A pre-trained model can also be downloaded from Google AI's official repo https://github.com/google-research/bert, and then set up with config file from the archive. However the Transformers wrapper library provides a convenient importability of this model in PyTorch and TensorFlow."
      ]
    },
    {
      "cell_type": "code",
      "metadata": {
        "id": "vAzhSAMElmxJ",
        "colab_type": "code",
        "colab": {}
      },
      "source": [
        "model = BertForTokenClassification.from_pretrained('bert-base-multilingual-cased', num_labels=4)"
      ],
      "execution_count": 0,
      "outputs": []
    },
    {
      "cell_type": "markdown",
      "metadata": {
        "id": "FUGYMRttokSN",
        "colab_type": "text"
      },
      "source": [
        "## Train our model"
      ]
    }
  ]
}